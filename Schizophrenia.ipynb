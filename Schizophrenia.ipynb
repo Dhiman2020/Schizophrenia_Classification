{
 "cells": [
  {
   "cell_type": "markdown",
   "id": "5f540db8-c49d-48d0-9a73-8262e51f63d3",
   "metadata": {},
   "source": [
    "EEG SIGNAL CLASSIFICATION USING CNN"
   ]
  },
  {
   "cell_type": "code",
   "execution_count": 1,
   "id": "93ecb13a-19d8-463b-ad56-85797a94f7a5",
   "metadata": {
    "tags": []
   },
   "outputs": [
    {
     "name": "stderr",
     "output_type": "stream",
     "text": [
      "C:\\Users\\Lenovo\\miniconda3\\lib\\site-packages\\requests\\__init__.py:102: RequestsDependencyWarning: urllib3 (1.26.15) or chardet (5.0.0)/charset_normalizer (2.0.4) doesn't match a supported version!\n",
      "  warnings.warn(\"urllib3 ({}) or chardet ({})/charset_normalizer ({}) doesn't match a supported \"\n",
      "a was unexpected at this time.\n"
     ]
    }
   ],
   "source": [
    "import os\n",
    "import time\n",
    "import numpy as np\n",
    "import pandas as pd\n",
    "\n",
    "from tqdm.notebook import tqdm\n",
    "import matplotlib.pyplot as plt\n",
    "from sklearn.model_selection import train_test_split\n",
    "from sklearn.preprocessing import normalize\n",
    "from sklearn.metrics import confusion_matrix\n",
    "\n",
    "import keras\n",
    "import tensorflow as tf\n",
    "from keras.models import Sequential\n",
    "from keras.layers import Dense,Conv2D, MaxPooling2D, Dropout, Flatten, BatchNormalization\n",
    "from keras import backend as K\n",
    "\n",
    "from keras.callbacks import ModelCheckpoint\n",
    "import warnings\n",
    "warnings.filterwarnings('ignore')\n",
    "\n",
    "gpu_devices = tf.config.experimental.list_physical_devices('GPU')\n",
    "for device in gpu_devices:\n",
    "    tf.config.experimental.set_memory_growth(device, True)\n",
    "    \n",
    "! for a in /sys/bus/pci/devices/*; do echo 0 | sudo tee -a $a/numa_node; done"
   ]
  },
  {
   "cell_type": "code",
   "execution_count": null,
   "id": "2d5a20fb-f5c2-4ddf-8a96-6874d129eec9",
   "metadata": {},
   "outputs": [
    {
     "name": "stdout",
     "output_type": "stream",
     "text": [
      "Name: tensorflow\n",
      "Version: 2.9.1\n",
      "Summary: TensorFlow is an open source machine learning framework for everyone.\n",
      "Home-page: https://www.tensorflow.org/\n",
      "Author: Google Inc.\n",
      "Author-email: packages@tensorflow.org\n",
      "License: Apache 2.0\n",
      "Location: c:\\users\\lenovo\\miniconda3\\lib\\site-packages\n",
      "Requires: absl-py, astunparse, flatbuffers, gast, google-pasta, grpcio, h5py, keras, keras-preprocessing, libclang, numpy, opt-einsum, packaging, protobuf, setuptools, six, tensorboard, tensorflow-estimator, tensorflow-io-gcs-filesystem, termcolor, typing-extensions, wrapt\n",
      "Required-by: autokeras, object-detection\n"
     ]
    }
   ],
   "source": [
    "!pip show tensorflow"
   ]
  },
  {
   "cell_type": "code",
   "execution_count": 2,
   "id": "54038745-6399-41ab-8ccc-343b701a41fa",
   "metadata": {},
   "outputs": [
    {
     "name": "stdout",
     "output_type": "stream",
     "text": [
      "archive\\columnLabels.csv\n",
      "archive\\demographic.csv\n",
      "archive\\ERPdata.csv\n",
      "archive\\mergedTrialData.csv\n",
      "archive\\time.csv\n",
      "archive\\1.csv\\1.csv\n",
      "archive\\10.csv\\10.csv\n",
      "archive\\11.csv\\11.csv\n",
      "archive\\12.csv\\12.csv\n",
      "archive\\13.csv\\13.csv\n",
      "archive\\14.csv\\14.csv\n",
      "archive\\15.csv\\15.csv\n",
      "archive\\16.csv\\16.csv\n",
      "archive\\17.csv\\17.csv\n",
      "archive\\18.csv\\18.csv\n",
      "archive\\19.csv\\19.csv\n",
      "archive\\2.csv\\2.csv\n",
      "archive\\20.csv\\20.csv\n",
      "archive\\21.csv\\21.csv\n",
      "archive\\22.csv\\22.csv\n",
      "archive\\23.csv\\23.csv\n",
      "archive\\24.csv\\24.csv\n",
      "archive\\3.csv\\3.csv\n",
      "archive\\4.csv\\4.csv\n",
      "archive\\5.csv\\5.csv\n",
      "archive\\6.csv\\6.csv\n",
      "archive\\66.csv\\66.csv\n",
      "archive\\67.csv\\67.csv\n",
      "archive\\68.csv\\68.csv\n",
      "archive\\69.csv\\69.csv\n",
      "archive\\7.csv\\7.csv\n",
      "archive\\70.csv\\70.csv\n",
      "archive\\71.csv\\71.csv\n",
      "archive\\72.csv\\72.csv\n",
      "archive\\73.csv\\73.csv\n",
      "archive\\74.csv\\74.csv\n",
      "archive\\75.csv\\75.csv\n",
      "archive\\76.csv\\76.csv\n",
      "archive\\77.csv\\77.csv\n",
      "archive\\78.csv\\78.csv\n",
      "archive\\79.csv\\79.csv\n",
      "archive\\8.csv\\8.csv\n",
      "archive\\80.csv\\80.csv\n",
      "archive\\81.csv\\81.csv\n",
      "archive\\9.csv\\9.csv\n"
     ]
    }
   ],
   "source": [
    "for dirname, _, filenames in os.walk('archive'):\n",
    "    for filename in filenames:\n",
    "        print(os.path.join(dirname,filename))"
   ]
  },
  {
   "cell_type": "code",
   "execution_count": 3,
   "id": "f44ad05f-5130-4402-9f49-0a80db07c290",
   "metadata": {},
   "outputs": [
    {
     "data": {
      "text/html": [
       "<div>\n",
       "<style scoped>\n",
       "    .dataframe tbody tr th:only-of-type {\n",
       "        vertical-align: middle;\n",
       "    }\n",
       "\n",
       "    .dataframe tbody tr th {\n",
       "        vertical-align: top;\n",
       "    }\n",
       "\n",
       "    .dataframe thead th {\n",
       "        text-align: right;\n",
       "    }\n",
       "</style>\n",
       "<table border=\"1\" class=\"dataframe\">\n",
       "  <thead>\n",
       "    <tr style=\"text-align: right;\">\n",
       "      <th></th>\n",
       "      <th>subject</th>\n",
       "      <th>group</th>\n",
       "      <th>gender</th>\n",
       "      <th>age</th>\n",
       "      <th>education</th>\n",
       "    </tr>\n",
       "  </thead>\n",
       "  <tbody>\n",
       "    <tr>\n",
       "      <th>0</th>\n",
       "      <td>1</td>\n",
       "      <td>0</td>\n",
       "      <td>M</td>\n",
       "      <td>44</td>\n",
       "      <td>16.0</td>\n",
       "    </tr>\n",
       "    <tr>\n",
       "      <th>1</th>\n",
       "      <td>2</td>\n",
       "      <td>0</td>\n",
       "      <td>M</td>\n",
       "      <td>39</td>\n",
       "      <td>17.0</td>\n",
       "    </tr>\n",
       "    <tr>\n",
       "      <th>2</th>\n",
       "      <td>3</td>\n",
       "      <td>0</td>\n",
       "      <td>M</td>\n",
       "      <td>53</td>\n",
       "      <td>18.0</td>\n",
       "    </tr>\n",
       "    <tr>\n",
       "      <th>3</th>\n",
       "      <td>4</td>\n",
       "      <td>0</td>\n",
       "      <td>M</td>\n",
       "      <td>52</td>\n",
       "      <td>15.0</td>\n",
       "    </tr>\n",
       "    <tr>\n",
       "      <th>4</th>\n",
       "      <td>5</td>\n",
       "      <td>0</td>\n",
       "      <td>M</td>\n",
       "      <td>41</td>\n",
       "      <td>16.0</td>\n",
       "    </tr>\n",
       "    <tr>\n",
       "      <th>...</th>\n",
       "      <td>...</td>\n",
       "      <td>...</td>\n",
       "      <td>...</td>\n",
       "      <td>...</td>\n",
       "      <td>...</td>\n",
       "    </tr>\n",
       "    <tr>\n",
       "      <th>76</th>\n",
       "      <td>77</td>\n",
       "      <td>1</td>\n",
       "      <td>M</td>\n",
       "      <td>28</td>\n",
       "      <td>13.0</td>\n",
       "    </tr>\n",
       "    <tr>\n",
       "      <th>77</th>\n",
       "      <td>78</td>\n",
       "      <td>1</td>\n",
       "      <td>F</td>\n",
       "      <td>32</td>\n",
       "      <td>16.0</td>\n",
       "    </tr>\n",
       "    <tr>\n",
       "      <th>78</th>\n",
       "      <td>79</td>\n",
       "      <td>1</td>\n",
       "      <td>M</td>\n",
       "      <td>37</td>\n",
       "      <td>16.0</td>\n",
       "    </tr>\n",
       "    <tr>\n",
       "      <th>79</th>\n",
       "      <td>80</td>\n",
       "      <td>1</td>\n",
       "      <td>M</td>\n",
       "      <td>33</td>\n",
       "      <td>13.0</td>\n",
       "    </tr>\n",
       "    <tr>\n",
       "      <th>80</th>\n",
       "      <td>81</td>\n",
       "      <td>1</td>\n",
       "      <td>M</td>\n",
       "      <td>56</td>\n",
       "      <td>13.0</td>\n",
       "    </tr>\n",
       "  </tbody>\n",
       "</table>\n",
       "<p>81 rows × 5 columns</p>\n",
       "</div>"
      ],
      "text/plain": [
       "    subject   group  gender   age   education\n",
       "0         1       0       M    44        16.0\n",
       "1         2       0       M    39        17.0\n",
       "2         3       0       M    53        18.0\n",
       "3         4       0       M    52        15.0\n",
       "4         5       0       M    41        16.0\n",
       "..      ...     ...     ...   ...         ...\n",
       "76       77       1       M    28        13.0\n",
       "77       78       1       F    32        16.0\n",
       "78       79       1       M    37        16.0\n",
       "79       80       1       M    33        13.0\n",
       "80       81       1       M    56        13.0\n",
       "\n",
       "[81 rows x 5 columns]"
      ]
     },
     "execution_count": 3,
     "metadata": {},
     "output_type": "execute_result"
    }
   ],
   "source": [
    "demographic = pd.read_csv(\"archive\\demographic.csv\")\n",
    "demographic"
   ]
  },
  {
   "cell_type": "code",
   "execution_count": 4,
   "id": "0ef93a20-54c7-4081-b4df-78fa65c694f9",
   "metadata": {},
   "outputs": [
    {
     "data": {
      "text/plain": [
       "1    49\n",
       "0    32\n",
       "Name:  group, dtype: int64"
      ]
     },
     "execution_count": 4,
     "metadata": {},
     "output_type": "execute_result"
    }
   ],
   "source": [
    "demographic[' group'].value_counts()"
   ]
  },
  {
   "cell_type": "code",
   "execution_count": 5,
   "id": "a81e4085-eec6-4dda-9168-427144f95b73",
   "metadata": {},
   "outputs": [
    {
     "data": {
      "text/plain": [
       "0.6049382716049383"
      ]
     },
     "execution_count": 5,
     "metadata": {},
     "output_type": "execute_result"
    }
   ],
   "source": [
    "demographic[' group'].mean()"
   ]
  },
  {
   "cell_type": "code",
   "execution_count": 6,
   "id": "bc009bbf-7e2c-4e17-a858-dddce6901cef",
   "metadata": {},
   "outputs": [
    {
     "name": "stdout",
     "output_type": "stream",
     "text": [
      "0 - Healthy\n",
      "1 - Healthy\n",
      "2 - Healthy\n",
      "3 - Healthy\n",
      "4 - Healthy\n",
      "5 - Healthy\n",
      "6 - Healthy\n",
      "7 - Healthy\n",
      "8 - Healthy\n",
      "9 - Healthy\n",
      "10 - Healthy\n",
      "11 - Healthy\n",
      "12 - Healthy\n",
      "13 - Healthy\n",
      "14 - Healthy\n",
      "15 - Healthy\n",
      "16 - Healthy\n",
      "17 - Healthy\n",
      "18 - Healthy\n",
      "19 - Healthy\n",
      "20 - Healthy\n",
      "21 - Healthy\n",
      "22 - Healthy\n",
      "23 - Healthy\n",
      "24 - Schizophrenia\n",
      "25 - Schizophrenia\n",
      "26 - Schizophrenia\n",
      "27 - Schizophrenia\n",
      "28 - Schizophrenia\n",
      "29 - Schizophrenia\n",
      "30 - Schizophrenia\n",
      "31 - Schizophrenia\n",
      "32 - Schizophrenia\n",
      "33 - Schizophrenia\n",
      "34 - Schizophrenia\n",
      "35 - Schizophrenia\n",
      "36 - Schizophrenia\n",
      "37 - Schizophrenia\n",
      "38 - Schizophrenia\n",
      "39 - Schizophrenia\n",
      "40 - Schizophrenia\n",
      "41 - Schizophrenia\n",
      "42 - Schizophrenia\n",
      "43 - Schizophrenia\n",
      "44 - Schizophrenia\n",
      "45 - Schizophrenia\n",
      "46 - Schizophrenia\n",
      "47 - Schizophrenia\n",
      "48 - Schizophrenia\n",
      "49 - Schizophrenia\n",
      "50 - Schizophrenia\n",
      "51 - Schizophrenia\n",
      "52 - Schizophrenia\n",
      "53 - Schizophrenia\n",
      "54 - Schizophrenia\n",
      "55 - Schizophrenia\n",
      "56 - Schizophrenia\n",
      "57 - Schizophrenia\n",
      "58 - Healthy\n",
      "59 - Healthy\n",
      "60 - Healthy\n",
      "61 - Healthy\n",
      "62 - Healthy\n",
      "63 - Healthy\n",
      "64 - Healthy\n",
      "65 - Healthy\n",
      "66 - Schizophrenia\n",
      "67 - Schizophrenia\n",
      "68 - Schizophrenia\n",
      "69 - Schizophrenia\n",
      "70 - Schizophrenia\n",
      "71 - Schizophrenia\n",
      "72 - Schizophrenia\n",
      "73 - Schizophrenia\n",
      "74 - Schizophrenia\n",
      "75 - Schizophrenia\n",
      "76 - Schizophrenia\n",
      "77 - Schizophrenia\n",
      "78 - Schizophrenia\n",
      "79 - Schizophrenia\n",
      "80 - Schizophrenia\n"
     ]
    }
   ],
   "source": [
    "for i,t in enumerate(list(demographic[' group'])):\n",
    "    if t:\n",
    "        print(f\"{i} - Schizophrenia\")\n",
    "    else:\n",
    "        print(f\"{i} - Healthy\")"
   ]
  },
  {
   "cell_type": "code",
   "execution_count": 7,
   "id": "9a9cec81-92c1-4e2e-95b6-d2dd1c54613a",
   "metadata": {},
   "outputs": [
    {
     "data": {
      "text/plain": [
       "{1: 0,\n",
       " 2: 0,\n",
       " 3: 0,\n",
       " 4: 0,\n",
       " 5: 0,\n",
       " 6: 0,\n",
       " 7: 0,\n",
       " 8: 0,\n",
       " 9: 0,\n",
       " 10: 0,\n",
       " 11: 0,\n",
       " 12: 0,\n",
       " 13: 0,\n",
       " 14: 0,\n",
       " 15: 0,\n",
       " 16: 0,\n",
       " 17: 0,\n",
       " 18: 0,\n",
       " 19: 0,\n",
       " 20: 0,\n",
       " 21: 0,\n",
       " 22: 0,\n",
       " 23: 0,\n",
       " 24: 0,\n",
       " 25: 1,\n",
       " 26: 1,\n",
       " 27: 1,\n",
       " 28: 1,\n",
       " 29: 1,\n",
       " 30: 1,\n",
       " 31: 1,\n",
       " 32: 1,\n",
       " 33: 1,\n",
       " 34: 1,\n",
       " 35: 1,\n",
       " 36: 1,\n",
       " 37: 1,\n",
       " 38: 1,\n",
       " 39: 1,\n",
       " 40: 1,\n",
       " 41: 1,\n",
       " 42: 1,\n",
       " 43: 1,\n",
       " 44: 1,\n",
       " 45: 1,\n",
       " 46: 1,\n",
       " 47: 1,\n",
       " 48: 1,\n",
       " 49: 1,\n",
       " 50: 1,\n",
       " 51: 1,\n",
       " 52: 1,\n",
       " 53: 1,\n",
       " 54: 1,\n",
       " 55: 1,\n",
       " 56: 1,\n",
       " 57: 1,\n",
       " 58: 1,\n",
       " 59: 0,\n",
       " 60: 0,\n",
       " 61: 0,\n",
       " 62: 0,\n",
       " 63: 0,\n",
       " 64: 0,\n",
       " 65: 0,\n",
       " 66: 0,\n",
       " 67: 1,\n",
       " 68: 1,\n",
       " 69: 1,\n",
       " 70: 1,\n",
       " 71: 1,\n",
       " 72: 1,\n",
       " 73: 1,\n",
       " 74: 1,\n",
       " 75: 1,\n",
       " 76: 1,\n",
       " 77: 1,\n",
       " 78: 1,\n",
       " 79: 1,\n",
       " 80: 1,\n",
       " 81: 1}"
      ]
     },
     "execution_count": 7,
     "metadata": {},
     "output_type": "execute_result"
    }
   ],
   "source": [
    "diagnosis_dict = dict(zip(demographic.subject, demographic[\" group\"]))\n",
    "diagnosis_dict"
   ]
  },
  {
   "cell_type": "code",
   "execution_count": 8,
   "id": "1c2ae84e-d662-4e2a-960d-30cb072da258",
   "metadata": {},
   "outputs": [
    {
     "data": {
      "text/html": [
       "<div>\n",
       "<style scoped>\n",
       "    .dataframe tbody tr th:only-of-type {\n",
       "        vertical-align: middle;\n",
       "    }\n",
       "\n",
       "    .dataframe tbody tr th {\n",
       "        vertical-align: top;\n",
       "    }\n",
       "\n",
       "    .dataframe thead th {\n",
       "        text-align: right;\n",
       "    }\n",
       "</style>\n",
       "<table border=\"1\" class=\"dataframe\">\n",
       "  <thead>\n",
       "    <tr style=\"text-align: right;\">\n",
       "      <th></th>\n",
       "      <th>subject</th>\n",
       "      <th>trial</th>\n",
       "      <th>condition</th>\n",
       "      <th>sample</th>\n",
       "      <th>Fp1</th>\n",
       "      <th>AF7</th>\n",
       "      <th>AF3</th>\n",
       "      <th>F1</th>\n",
       "      <th>F3</th>\n",
       "      <th>F5</th>\n",
       "      <th>...</th>\n",
       "      <th>P10</th>\n",
       "      <th>PO8</th>\n",
       "      <th>PO4</th>\n",
       "      <th>O2</th>\n",
       "      <th>VEOa</th>\n",
       "      <th>VEOb</th>\n",
       "      <th>HEOL</th>\n",
       "      <th>HEOR</th>\n",
       "      <th>Nose</th>\n",
       "      <th>TP10</th>\n",
       "    </tr>\n",
       "  </thead>\n",
       "  <tbody>\n",
       "  </tbody>\n",
       "</table>\n",
       "<p>0 rows × 74 columns</p>\n",
       "</div>"
      ],
      "text/plain": [
       "Empty DataFrame\n",
       "Columns: [subject, trial, condition, sample, Fp1, AF7, AF3, F1, F3, F5, F7, FT7, FC5, FC3, FC1, C1, C3, C5, T7, TP7, CP5, CP3, CP1, P1, P3, P5, P7, P9, PO7, PO3, O1, Iz, Oz, POz, Pz, CPz, Fpz, Fp2, AF8, AF4, AFz, Fz, F2, F4, F6, F8, FT8, FC6, FC4, FC2, FCz, Cz, C2, C4, C6, T8, TP8, CP6, CP4, CP2, P2, P4, P6, P8, P10, PO8, PO4, O2, VEOa, VEOb, HEOL, HEOR, Nose, TP10]\n",
       "Index: []\n",
       "\n",
       "[0 rows x 74 columns]"
      ]
     },
     "execution_count": 8,
     "metadata": {},
     "output_type": "execute_result"
    }
   ],
   "source": [
    "labels = pd.read_csv(\"archive\\columnLabels.csv\")\n",
    "labels"
   ]
  },
  {
   "cell_type": "code",
   "execution_count": 9,
   "id": "665310e4-1ad7-49a5-8bd9-1437582efcf3",
   "metadata": {},
   "outputs": [
    {
     "data": {
      "text/plain": [
       "Index(['Fp1', 'AF7', 'AF3', 'F1', 'F3', 'F5', 'F7', 'FT7', 'FC5', 'FC3', 'FC1',\n",
       "       'C1', 'C3', 'C5', 'T7', 'TP7', 'CP5', 'CP3', 'CP1', 'P1', 'P3', 'P5',\n",
       "       'P7', 'P9', 'PO7', 'PO3', 'O1', 'Iz', 'Oz', 'POz', 'Pz', 'CPz', 'Fpz',\n",
       "       'Fp2', 'AF8', 'AF4', 'AFz', 'Fz', 'F2', 'F4', 'F6', 'F8', 'FT8', 'FC6',\n",
       "       'FC4', 'FC2', 'FCz', 'Cz', 'C2', 'C4', 'C6', 'T8', 'TP8', 'CP6', 'CP4',\n",
       "       'CP2', 'P2', 'P4', 'P6', 'P8', 'P10', 'PO8', 'PO4', 'O2', 'VEOa',\n",
       "       'VEOb', 'HEOL', 'HEOR', 'Nose', 'TP10'],\n",
       "      dtype='object')"
      ]
     },
     "execution_count": 9,
     "metadata": {},
     "output_type": "execute_result"
    }
   ],
   "source": [
    "electrodes_list = labels.columns[4:]\n",
    "electrodes_list"
   ]
  },
  {
   "cell_type": "code",
   "execution_count": 10,
   "id": "e35cacd7-d5ee-4404-993c-144d6b7f0e76",
   "metadata": {},
   "outputs": [],
   "source": [
    "def averaged_by_N_rows(a, n):\n",
    "    shape = a.shape\n",
    "    assert len(shape) == 2\n",
    "    assert shape[0] % n == 0\n",
    "    b = a.reshape(shape[0]//n,n,shape[1])\n",
    "    mean_vec = b.mean(axis=1)\n",
    "    return mean_vec"
   ]
  },
  {
   "cell_type": "code",
   "execution_count": 11,
   "id": "707832f8-4765-4a4e-88b4-dd7564a4b596",
   "metadata": {},
   "outputs": [
    {
     "data": {
      "application/vnd.jupyter.widget-view+json": {
       "model_id": "06ea1bb80a874a989d42edbd7adc386a",
       "version_major": 2,
       "version_minor": 0
      },
      "text/plain": [
       "0it [00:00, ?it/s]"
      ]
     },
     "metadata": {},
     "output_type": "display_data"
    },
    {
     "name": "stdout",
     "output_type": "stream",
     "text": [
      "Total trials with the Appropriate number of measurements -  3571\n",
      "Total trials with the Appropriate number of measurements-  3571\n"
     ]
    }
   ],
   "source": [
    "N_Averaged = 16\n",
    "x_counter = 0\n",
    "X = np.zeros((45*100,9216*len(electrodes_list)//N_Averaged),dtype=\"float32\")\n",
    "Y = np.zeros(len(X))\n",
    "\n",
    "csv_paths = []\n",
    "for dirname, _, filenames in os.walk('archive'):\n",
    "    for filename in filenames:\n",
    "        csv_paths = csv_paths + [os.path.join(dirname,filename)]\n",
    "        \n",
    "column_list = pd.read_csv(\"archive\\columnLabels.csv\").columns\n",
    "for person_number,path in tqdm(enumerate(csv_paths,1)):\n",
    "    csv_path = path\n",
    "    \n",
    "    df = pd.read_csv(csv_path,header=None,names=column_list)\n",
    "    trials_list = set(df.trial)\n",
    "    \n",
    "    for t1, trial_number in enumerate(trials_list):\n",
    "        number_of_trials = len(df[df.trial == trial_number])\n",
    "        if number_of_trials == 9216.0:\n",
    "            current_sample_matrix = df[df.trial == trial_number][electrodes_list].values\n",
    "            averaged_by_N = averaged_by_N_rows(current_sample_matrix, n=N_Averaged)\n",
    "            averaged_by_N_big_vec = averaged_by_N.reshape(-1)\n",
    "            X[x_counter] = averaged_by_N_big_vec.astype(np.float32)\n",
    "            Y[x_counter] = diagnosis_dict[person_number]\n",
    "            x_counter += 1\n",
    "print(\"Total trials with the Appropriate number of measurements - \", x_counter)\n",
    "X = X[: x_counter]\n",
    "Y = Y[: x_counter]\n",
    "        \n",
    "print(\"Total trials with the Appropriate number of measurements- \", x_counter)"
   ]
  },
  {
   "cell_type": "code",
   "execution_count": 12,
   "id": "2b04ada2-c899-4f6d-9374-b2e64d7885e3",
   "metadata": {},
   "outputs": [
    {
     "data": {
      "text/plain": [
       "(3571, 40320)"
      ]
     },
     "execution_count": 12,
     "metadata": {},
     "output_type": "execute_result"
    }
   ],
   "source": [
    "X.shape"
   ]
  },
  {
   "cell_type": "code",
   "execution_count": 13,
   "id": "d61634c9-153c-4bd1-9792-dbf7d9e8c0c1",
   "metadata": {},
   "outputs": [
    {
     "data": {
      "text/plain": [
       "(3571,)"
      ]
     },
     "execution_count": 13,
     "metadata": {},
     "output_type": "execute_result"
    }
   ],
   "source": [
    "Y.shape"
   ]
  },
  {
   "cell_type": "code",
   "execution_count": 14,
   "id": "c9f8f7cc-72af-40fc-bce3-009204a2d243",
   "metadata": {},
   "outputs": [],
   "source": [
    "X_train,X_test,Y_train,Y_test = train_test_split(X,Y,test_size=0.2,shuffle=True,random_state = 42,stratify = Y)"
   ]
  },
  {
   "cell_type": "code",
   "execution_count": 15,
   "id": "a8d1c6da-edc0-4a30-a7d3-344c6c957b6d",
   "metadata": {},
   "outputs": [],
   "source": [
    "X_norm = (normalize(X.reshape(-1,70),axis=0, norm='max')).reshape(X.shape)"
   ]
  },
  {
   "cell_type": "code",
   "execution_count": 16,
   "id": "d0056beb-dfae-4d60-bf40-54da628e7cb9",
   "metadata": {},
   "outputs": [],
   "source": [
    "X_train_norm,X_test_norm,Y_train_norm,Y_test_norm = train_test_split(X_norm,Y,test_size=0.2,shuffle=True,random_state=42)"
   ]
  },
  {
   "cell_type": "code",
   "execution_count": 17,
   "id": "ca8f6264-22ba-4116-a24a-0c45e52ca572",
   "metadata": {},
   "outputs": [],
   "source": [
    "_norm = X"
   ]
  },
  {
   "cell_type": "code",
   "execution_count": 18,
   "id": "7e8631c0-126c-41d4-811f-1e03a8038c15",
   "metadata": {},
   "outputs": [],
   "source": [
    "X_train_2d = X_train_norm.reshape(X_train_norm.shape[0],len(electrodes_list),X_train_norm.shape[1]//len(electrodes_list),1)\n",
    "X_test_2d = X_test_norm.reshape(X_test_norm.shape[0],len(electrodes_list),X_test_norm.shape[1]//len(electrodes_list),1)"
   ]
  },
  {
   "cell_type": "code",
   "execution_count": 23,
   "id": "5cc5dde9-8243-4618-8acc-e79143654f85",
   "metadata": {},
   "outputs": [],
   "source": [
    "model = Sequential()\n",
    "\n",
    "model.add(Conv2D(32, kernel_size=(5, 20),\n",
    "                 activation='tanh',\n",
    "                 input_shape=(X_train_2d.shape[1:])))\n",
    "model.add(MaxPooling2D(pool_size=(5, 15)))\n",
    "\n",
    "model.add(Conv2D(64, kernel_size=(3, 3),\n",
    "                 activation='tanh',))\n",
    "model.add(MaxPooling2D(pool_size=(3, 3)))\n",
    "          \n",
    "\n",
    "model.add(Dropout(0.15))\n",
    "model.add(Flatten())\n",
    "\n",
    "model.add(Dense(512, activation='relu'))\n",
    "\n",
    "model.add(Dense(1, activation='sigmoid'))\n",
    "\n",
    "model.compile(loss=keras.losses.binary_crossentropy,\n",
    "              optimizer=tf.optimizers.Adam(0.000005),\n",
    "              metrics=['acc'])"
   ]
  },
  {
   "cell_type": "code",
   "execution_count": null,
   "id": "fc75beac-e850-4023-9437-7f25825cb8c9",
   "metadata": {},
   "outputs": [],
   "source": [
    "model.compile(loss=keras.losses.binary_crossentropy,\n",
    "              optimizer=tf.optimizers.Adam(0.0000075),\n",
    "              metrics=['acc'])"
   ]
  },
  {
   "cell_type": "code",
   "execution_count": 24,
   "id": "45699fc7-3311-4b43-96dd-d05a16c572bf",
   "metadata": {},
   "outputs": [],
   "source": [
    "history_params = []"
   ]
  },
  {
   "cell_type": "code",
   "execution_count": 29,
   "id": "1eda7fcc-883b-4294-bfdc-ecff72cc3e65",
   "metadata": {},
   "outputs": [
    {
     "name": "stdout",
     "output_type": "stream",
     "text": [
      "Epoch 1/10\n",
      "12/12 [==============================] - 83s 4s/step - loss: 0.6875 - acc: 0.5231 - val_loss: 0.6927 - val_acc: 0.4965\n",
      "Epoch 2/10\n",
      "12/12 [==============================] - 50s 4s/step - loss: 0.6872 - acc: 0.5231 - val_loss: 0.6927 - val_acc: 0.4965\n",
      "Epoch 3/10\n",
      "12/12 [==============================] - 53s 4s/step - loss: 0.6873 - acc: 0.5231 - val_loss: 0.6925 - val_acc: 0.4965\n",
      "Epoch 4/10\n",
      "12/12 [==============================] - 55s 5s/step - loss: 0.6871 - acc: 0.5231 - val_loss: 0.6925 - val_acc: 0.4965\n",
      "Epoch 5/10\n",
      "12/12 [==============================] - 53s 4s/step - loss: 0.6870 - acc: 0.5231 - val_loss: 0.6924 - val_acc: 0.4965\n",
      "Epoch 6/10\n",
      "12/12 [==============================] - 56s 5s/step - loss: 0.6868 - acc: 0.5231 - val_loss: 0.6924 - val_acc: 0.4965\n",
      "Epoch 7/10\n",
      "12/12 [==============================] - 62s 5s/step - loss: 0.6867 - acc: 0.5231 - val_loss: 0.6923 - val_acc: 0.4965\n",
      "Epoch 8/10\n",
      "12/12 [==============================] - 53s 4s/step - loss: 0.6865 - acc: 0.5231 - val_loss: 0.6922 - val_acc: 0.4965\n",
      "Epoch 9/10\n",
      "12/12 [==============================] - 53s 4s/step - loss: 0.6866 - acc: 0.5231 - val_loss: 0.6920 - val_acc: 0.4965\n",
      "Epoch 10/10\n",
      "12/12 [==============================] - 53s 4s/step - loss: 0.6863 - acc: 0.5231 - val_loss: 0.6920 - val_acc: 0.4965\n"
     ]
    }
   ],
   "source": [
    "history_2 = model.fit(X_train_2d, Y_train_norm,\n",
    "          batch_size=256,\n",
    "          epochs=10,\n",
    "          verbose=1,\n",
    "          shuffle=True,\n",
    "          validation_data=(X_test_2d, Y_test_norm))"
   ]
  },
  {
   "cell_type": "code",
   "execution_count": 31,
   "id": "17bac2c3-ee26-4474-aafc-b76b93074fd8",
   "metadata": {},
   "outputs": [
    {
     "data": {
      "image/png": "[encoded data removed]",
      "text/plain": [
       "<Figure size 432x288 with 1 Axes>"
      ]
     },
     "metadata": {
      "needs_background": "light"
     },
     "output_type": "display_data"
    }
   ],
   "source": [
    "plt.plot(history_2.history['acc'])\n",
    "plt.plot(history_2.history['val_acc'])\n",
    "plt.title('model accuracy')\n",
    "plt.ylabel('acc')\n",
    "plt.xlabel('epoch')\n",
    "plt.legend(['train', 'test'], loc='upper left')\n",
    "plt.show()"
   ]
  },
  {
   "cell_type": "code",
   "execution_count": 33,
   "id": "10ded76b-6816-4936-8995-85fde96342c4",
   "metadata": {},
   "outputs": [
    {
     "data": {
      "image/png": "[encoded data removed]",
      "text/plain": [
       "<Figure size 432x288 with 1 Axes>"
      ]
     },
     "metadata": {
      "needs_background": "light"
     },
     "output_type": "display_data"
    }
   ],
   "source": [
    "plt.plot(history_2.history['loss'])\n",
    "plt.plot(history_2.history['val_loss'])\n",
    "plt.title('model loss')\n",
    "plt.ylabel('loss')\n",
    "plt.xlabel('epoch')\n",
    "plt.legend(['train', 'test'], loc='upper left')\n",
    "plt.show()"
   ]
  },
  {
   "cell_type": "code",
   "execution_count": 34,
   "id": "dcd5ee94-51b6-4fac-81be-c33ded77ace8",
   "metadata": {},
   "outputs": [
    {
     "name": "stdout",
     "output_type": "stream",
     "text": [
      "23/23 [==============================] - 1s 61ms/step - loss: 0.6920 - acc: 0.4965\n",
      "Val accuracy=0.6920133829116821  val loss=0.4965035021305084\n"
     ]
    }
   ],
   "source": [
    "accuracy, loss = model.evaluate(X_test_2d, Y_test_norm)\n",
    "print(f\"Val accuracy={accuracy}  val loss={loss}\")"
   ]
  },
  {
   "cell_type": "code",
   "execution_count": 35,
   "id": "ee88465c-d5e7-4050-825a-382b24795532",
   "metadata": {},
   "outputs": [
    {
     "name": "stdout",
     "output_type": "stream",
     "text": [
      "23/23 [==============================] - 2s 64ms/step\n",
      "23/23 [==============================] - 1s 61ms/step\n"
     ]
    },
    {
     "data": {
      "text/plain": [
       "array([[  0, 360],\n",
       "       [  0, 355]], dtype=int64)"
      ]
     },
     "execution_count": 35,
     "metadata": {},
     "output_type": "execute_result"
    }
   ],
   "source": [
    "y_predicted =  model.predict(X_test_2d)\n",
    "\n",
    "confusion_matr = confusion_matrix(Y_test_norm, np.round(model.predict(X_test_2d)))\n",
    "confusion_matr"
   ]
  },
  {
   "cell_type": "code",
   "execution_count": null,
   "id": "412b63c5-f89c-4871-a1a4-d4632b2a87f6",
   "metadata": {},
   "outputs": [],
   "source": []
  }
 ],
 "metadata": {
  "kernelspec": {
   "display_name": "Python 3 (ipykernel)",
   "language": "python",
   "name": "python3"
  },
  "language_info": {
   "codemirror_mode": {
    "name": "ipython",
    "version": 3
   },
   "file_extension": ".py",
   "mimetype": "text/x-python",
   "name": "python",
   "nbconvert_exporter": "python",
   "pygments_lexer": "ipython3",
   "version": "3.9.12"
  }
 },
 "nbformat": 4,
 "nbformat_minor": 5
}
